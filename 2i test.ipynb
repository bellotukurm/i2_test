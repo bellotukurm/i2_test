{
 "cells": [
  {
   "cell_type": "code",
   "execution_count": 10,
   "id": "satellite-quilt",
   "metadata": {},
   "outputs": [
    {
     "name": "stdout",
     "output_type": "stream",
     "text": [
      "7\n",
      "14\n",
      "21\n",
      "28\n",
      "35\n",
      "42\n",
      "49\n",
      "56\n",
      "63\n",
      "70\n",
      "77\n",
      "84\n",
      "91\n",
      "98\n",
      "106\n",
      "114\n",
      "122\n",
      "130\n",
      "138\n",
      "146\n",
      "154\n",
      "162\n",
      "170\n",
      "178\n",
      "186\n",
      "194\n",
      "203\n",
      "212\n",
      "221\n",
      "230\n",
      "239\n",
      "248\n",
      "257\n",
      "266\n",
      "275\n",
      "284\n",
      "293\n"
     ]
    }
   ],
   "source": [
    "#used a method for this one \n",
    "#to keep track of where the first loop stops\n",
    "num = 0  \n",
    "def iterator(start, finish):\n",
    "    num = 0\n",
    "    for i in range (0, (finish-start)+1):\n",
    "        for j in range(num+(start+i), 100*(i+1), i+start):\n",
    "            num = j\n",
    "            print(num)\n",
    "            \n",
    "iterator(7,9)"
   ]
  },
  {
   "cell_type": "code",
   "execution_count": 8,
   "id": "framed-amount",
   "metadata": {},
   "outputs": [
    {
     "name": "stdout",
     "output_type": "stream",
     "text": [
      "7\n",
      "14\n",
      "21\n",
      "28\n",
      "35\n",
      "42\n",
      "49\n",
      "56\n",
      "63\n",
      "70\n",
      "77\n",
      "84\n",
      "91\n",
      "98\n",
      "106\n",
      "114\n",
      "122\n",
      "130\n",
      "138\n",
      "146\n",
      "154\n",
      "162\n",
      "170\n",
      "178\n",
      "186\n",
      "194\n",
      "203\n",
      "212\n",
      "221\n",
      "230\n",
      "239\n",
      "248\n",
      "257\n",
      "266\n",
      "275\n",
      "284\n",
      "293\n"
     ]
    }
   ],
   "source": [
    "# hard coded here\n",
    "for i in range(7, 100, 7):\n",
    "    num = i\n",
    "    print(num)\n",
    "    \n",
    "for i in range(num+8, 200, 8):\n",
    "    num = i\n",
    "    print(num)\n",
    "    \n",
    "for i in range(num+9, 300, 9):\n",
    "    num = i\n",
    "    print(num)"
   ]
  },
  {
   "cell_type": "code",
   "execution_count": null,
   "id": "major-praise",
   "metadata": {},
   "outputs": [],
   "source": []
  }
 ],
 "metadata": {
  "kernelspec": {
   "display_name": "Python 3",
   "language": "python",
   "name": "python3"
  },
  "language_info": {
   "codemirror_mode": {
    "name": "ipython",
    "version": 3
   },
   "file_extension": ".py",
   "mimetype": "text/x-python",
   "name": "python",
   "nbconvert_exporter": "python",
   "pygments_lexer": "ipython3",
   "version": "3.8.10"
  }
 },
 "nbformat": 4,
 "nbformat_minor": 5
}
